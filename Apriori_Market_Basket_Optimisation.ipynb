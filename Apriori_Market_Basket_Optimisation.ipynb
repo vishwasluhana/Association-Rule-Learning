{
 "cells": [
  {
   "cell_type": "markdown",
   "metadata": {},
   "source": [
    "# Market Basket Optimisation using Apriori"
   ]
  },
  {
   "cell_type": "code",
   "execution_count": 48,
   "metadata": {},
   "outputs": [
    {
     "name": "stdout",
     "output_type": "stream",
     "text": [
      "Requirement already satisfied: apyori in /home/vishwa/anaconda3/lib/python3.8/site-packages (1.1.2)\n"
     ]
    }
   ],
   "source": [
    "# make sure you have \"apyori\" package installed.\n",
    "# to install it run:\n",
    "! pip install apyori"
   ]
  },
  {
   "cell_type": "markdown",
   "metadata": {},
   "source": [
    "## Importing libraries"
   ]
  },
  {
   "cell_type": "code",
   "execution_count": 49,
   "metadata": {},
   "outputs": [],
   "source": [
    "import pandas as pd"
   ]
  },
  {
   "cell_type": "markdown",
   "metadata": {},
   "source": [
    "## Data Preprocessing"
   ]
  },
  {
   "cell_type": "code",
   "execution_count": 50,
   "metadata": {},
   "outputs": [
    {
     "name": "stdout",
     "output_type": "stream",
     "text": [
      "(7501, 20)\n"
     ]
    },
    {
     "data": {
      "text/html": [
       "<div>\n",
       "<style scoped>\n",
       "    .dataframe tbody tr th:only-of-type {\n",
       "        vertical-align: middle;\n",
       "    }\n",
       "\n",
       "    .dataframe tbody tr th {\n",
       "        vertical-align: top;\n",
       "    }\n",
       "\n",
       "    .dataframe thead th {\n",
       "        text-align: right;\n",
       "    }\n",
       "</style>\n",
       "<table border=\"1\" class=\"dataframe\">\n",
       "  <thead>\n",
       "    <tr style=\"text-align: right;\">\n",
       "      <th></th>\n",
       "      <th>0</th>\n",
       "      <th>1</th>\n",
       "      <th>2</th>\n",
       "      <th>3</th>\n",
       "      <th>4</th>\n",
       "      <th>5</th>\n",
       "      <th>6</th>\n",
       "      <th>7</th>\n",
       "      <th>8</th>\n",
       "      <th>9</th>\n",
       "      <th>10</th>\n",
       "      <th>11</th>\n",
       "      <th>12</th>\n",
       "      <th>13</th>\n",
       "      <th>14</th>\n",
       "      <th>15</th>\n",
       "      <th>16</th>\n",
       "      <th>17</th>\n",
       "      <th>18</th>\n",
       "      <th>19</th>\n",
       "    </tr>\n",
       "  </thead>\n",
       "  <tbody>\n",
       "    <tr>\n",
       "      <th>0</th>\n",
       "      <td>shrimp</td>\n",
       "      <td>almonds</td>\n",
       "      <td>avocado</td>\n",
       "      <td>vegetables mix</td>\n",
       "      <td>green grapes</td>\n",
       "      <td>whole weat flour</td>\n",
       "      <td>yams</td>\n",
       "      <td>cottage cheese</td>\n",
       "      <td>energy drink</td>\n",
       "      <td>tomato juice</td>\n",
       "      <td>low fat yogurt</td>\n",
       "      <td>green tea</td>\n",
       "      <td>honey</td>\n",
       "      <td>salad</td>\n",
       "      <td>mineral water</td>\n",
       "      <td>salmon</td>\n",
       "      <td>antioxydant juice</td>\n",
       "      <td>frozen smoothie</td>\n",
       "      <td>spinach</td>\n",
       "      <td>olive oil</td>\n",
       "    </tr>\n",
       "    <tr>\n",
       "      <th>1</th>\n",
       "      <td>burgers</td>\n",
       "      <td>meatballs</td>\n",
       "      <td>eggs</td>\n",
       "      <td>NaN</td>\n",
       "      <td>NaN</td>\n",
       "      <td>NaN</td>\n",
       "      <td>NaN</td>\n",
       "      <td>NaN</td>\n",
       "      <td>NaN</td>\n",
       "      <td>NaN</td>\n",
       "      <td>NaN</td>\n",
       "      <td>NaN</td>\n",
       "      <td>NaN</td>\n",
       "      <td>NaN</td>\n",
       "      <td>NaN</td>\n",
       "      <td>NaN</td>\n",
       "      <td>NaN</td>\n",
       "      <td>NaN</td>\n",
       "      <td>NaN</td>\n",
       "      <td>NaN</td>\n",
       "    </tr>\n",
       "    <tr>\n",
       "      <th>2</th>\n",
       "      <td>chutney</td>\n",
       "      <td>NaN</td>\n",
       "      <td>NaN</td>\n",
       "      <td>NaN</td>\n",
       "      <td>NaN</td>\n",
       "      <td>NaN</td>\n",
       "      <td>NaN</td>\n",
       "      <td>NaN</td>\n",
       "      <td>NaN</td>\n",
       "      <td>NaN</td>\n",
       "      <td>NaN</td>\n",
       "      <td>NaN</td>\n",
       "      <td>NaN</td>\n",
       "      <td>NaN</td>\n",
       "      <td>NaN</td>\n",
       "      <td>NaN</td>\n",
       "      <td>NaN</td>\n",
       "      <td>NaN</td>\n",
       "      <td>NaN</td>\n",
       "      <td>NaN</td>\n",
       "    </tr>\n",
       "    <tr>\n",
       "      <th>3</th>\n",
       "      <td>turkey</td>\n",
       "      <td>avocado</td>\n",
       "      <td>NaN</td>\n",
       "      <td>NaN</td>\n",
       "      <td>NaN</td>\n",
       "      <td>NaN</td>\n",
       "      <td>NaN</td>\n",
       "      <td>NaN</td>\n",
       "      <td>NaN</td>\n",
       "      <td>NaN</td>\n",
       "      <td>NaN</td>\n",
       "      <td>NaN</td>\n",
       "      <td>NaN</td>\n",
       "      <td>NaN</td>\n",
       "      <td>NaN</td>\n",
       "      <td>NaN</td>\n",
       "      <td>NaN</td>\n",
       "      <td>NaN</td>\n",
       "      <td>NaN</td>\n",
       "      <td>NaN</td>\n",
       "    </tr>\n",
       "    <tr>\n",
       "      <th>4</th>\n",
       "      <td>mineral water</td>\n",
       "      <td>milk</td>\n",
       "      <td>energy bar</td>\n",
       "      <td>whole wheat rice</td>\n",
       "      <td>green tea</td>\n",
       "      <td>NaN</td>\n",
       "      <td>NaN</td>\n",
       "      <td>NaN</td>\n",
       "      <td>NaN</td>\n",
       "      <td>NaN</td>\n",
       "      <td>NaN</td>\n",
       "      <td>NaN</td>\n",
       "      <td>NaN</td>\n",
       "      <td>NaN</td>\n",
       "      <td>NaN</td>\n",
       "      <td>NaN</td>\n",
       "      <td>NaN</td>\n",
       "      <td>NaN</td>\n",
       "      <td>NaN</td>\n",
       "      <td>NaN</td>\n",
       "    </tr>\n",
       "  </tbody>\n",
       "</table>\n",
       "</div>"
      ],
      "text/plain": [
       "              0          1           2                 3             4   \\\n",
       "0         shrimp    almonds     avocado    vegetables mix  green grapes   \n",
       "1        burgers  meatballs        eggs               NaN           NaN   \n",
       "2        chutney        NaN         NaN               NaN           NaN   \n",
       "3         turkey    avocado         NaN               NaN           NaN   \n",
       "4  mineral water       milk  energy bar  whole wheat rice     green tea   \n",
       "\n",
       "                 5     6               7             8             9   \\\n",
       "0  whole weat flour  yams  cottage cheese  energy drink  tomato juice   \n",
       "1               NaN   NaN             NaN           NaN           NaN   \n",
       "2               NaN   NaN             NaN           NaN           NaN   \n",
       "3               NaN   NaN             NaN           NaN           NaN   \n",
       "4               NaN   NaN             NaN           NaN           NaN   \n",
       "\n",
       "               10         11     12     13             14      15  \\\n",
       "0  low fat yogurt  green tea  honey  salad  mineral water  salmon   \n",
       "1             NaN        NaN    NaN    NaN            NaN     NaN   \n",
       "2             NaN        NaN    NaN    NaN            NaN     NaN   \n",
       "3             NaN        NaN    NaN    NaN            NaN     NaN   \n",
       "4             NaN        NaN    NaN    NaN            NaN     NaN   \n",
       "\n",
       "                  16               17       18         19  \n",
       "0  antioxydant juice  frozen smoothie  spinach  olive oil  \n",
       "1                NaN              NaN      NaN        NaN  \n",
       "2                NaN              NaN      NaN        NaN  \n",
       "3                NaN              NaN      NaN        NaN  \n",
       "4                NaN              NaN      NaN        NaN  "
      ]
     },
     "execution_count": 50,
     "metadata": {},
     "output_type": "execute_result"
    }
   ],
   "source": [
    "dataset = pd.read_csv('Market_Basket_Optimisation.csv', header=None)\n",
    "print(dataset.shape)\n",
    "dataset.head()"
   ]
  },
  {
   "cell_type": "code",
   "execution_count": 51,
   "metadata": {},
   "outputs": [
    {
     "name": "stdout",
     "output_type": "stream",
     "text": [
      "0\n"
     ]
    }
   ],
   "source": [
    "# Looks like we have a lot of null values in the dataset.\n",
    "\n",
    "# lets fill them\n",
    "dataset.fillna(0, inplace=True)\n",
    "print(dataset.isna().sum().sum())"
   ]
  },
  {
   "cell_type": "code",
   "execution_count": 52,
   "metadata": {},
   "outputs": [],
   "source": [
    "# for using aprori , need to convert data in list format.\n",
    "# transaction = [['apple','almonds'],['apple'],['banana','apple']]...\n",
    "\n",
    "transactions = []\n",
    "for i in range(dataset.shape[0]):\n",
    "    transactions.append([str(dataset.values[i, j]) for j in range(dataset.shape[1]) if str(dataset.values[i, j]) != '0'])"
   ]
  },
  {
   "cell_type": "markdown",
   "metadata": {},
   "source": [
    "## Training Apriori model on the dataset"
   ]
  },
  {
   "cell_type": "code",
   "execution_count": 53,
   "metadata": {},
   "outputs": [],
   "source": [
    "from apyori import apriori\n",
    "rules = apriori(transactions=transactions, min_support=0.003, min_confidence=0.2, min_lift=3, min_length=2)\n",
    "\n",
    "# min_support = 0.003 -> means selecting items with min support of 0.3%\n",
    "# min_confidance = 0.2 -> means min confidance of 20% \n",
    "# min_lift = 3  \n",
    "# min_length = 2 -> means no. of items in the transaction should be 2"
   ]
  },
  {
   "cell_type": "markdown",
   "metadata": {},
   "source": [
    "## Displaying the results"
   ]
  },
  {
   "cell_type": "code",
   "execution_count": 54,
   "metadata": {},
   "outputs": [
    {
     "name": "stdout",
     "output_type": "stream",
     "text": [
      "[RelationRecord(items=frozenset({'light cream', 'chicken'}), support=0.004532728969470737, ordered_statistics=[OrderedStatistic(items_base=frozenset({'light cream'}), items_add=frozenset({'chicken'}), confidence=0.29059829059829057, lift=4.84395061728395)]), RelationRecord(items=frozenset({'escalope', 'mushroom cream sauce'}), support=0.005732568990801226, ordered_statistics=[OrderedStatistic(items_base=frozenset({'mushroom cream sauce'}), items_add=frozenset({'escalope'}), confidence=0.3006993006993007, lift=3.790832696715049)]), RelationRecord(items=frozenset({'escalope', 'pasta'}), support=0.005865884548726837, ordered_statistics=[OrderedStatistic(items_base=frozenset({'pasta'}), items_add=frozenset({'escalope'}), confidence=0.3728813559322034, lift=4.700811850163794)]), RelationRecord(items=frozenset({'fromage blanc', 'honey'}), support=0.003332888948140248, ordered_statistics=[OrderedStatistic(items_base=frozenset({'fromage blanc'}), items_add=frozenset({'honey'}), confidence=0.2450980392156863, lift=5.164270764485569)]), RelationRecord(items=frozenset({'herb & pepper', 'ground beef'}), support=0.015997866951073192, ordered_statistics=[OrderedStatistic(items_base=frozenset({'herb & pepper'}), items_add=frozenset({'ground beef'}), confidence=0.3234501347708895, lift=3.2919938411349285)]), RelationRecord(items=frozenset({'tomato sauce', 'ground beef'}), support=0.005332622317024397, ordered_statistics=[OrderedStatistic(items_base=frozenset({'tomato sauce'}), items_add=frozenset({'ground beef'}), confidence=0.3773584905660377, lift=3.840659481324083)]), RelationRecord(items=frozenset({'olive oil', 'light cream'}), support=0.003199573390214638, ordered_statistics=[OrderedStatistic(items_base=frozenset({'light cream'}), items_add=frozenset({'olive oil'}), confidence=0.20512820512820515, lift=3.1147098515519573)]), RelationRecord(items=frozenset({'olive oil', 'whole wheat pasta'}), support=0.007998933475536596, ordered_statistics=[OrderedStatistic(items_base=frozenset({'whole wheat pasta'}), items_add=frozenset({'olive oil'}), confidence=0.2714932126696833, lift=4.122410097642296)]), RelationRecord(items=frozenset({'shrimp', 'pasta'}), support=0.005065991201173177, ordered_statistics=[OrderedStatistic(items_base=frozenset({'pasta'}), items_add=frozenset({'shrimp'}), confidence=0.3220338983050847, lift=4.506672147735896)]), RelationRecord(items=frozenset({'spaghetti', 'avocado', 'milk'}), support=0.003332888948140248, ordered_statistics=[OrderedStatistic(items_base=frozenset({'avocado', 'spaghetti'}), items_add=frozenset({'milk'}), confidence=0.41666666666666663, lift=3.215449245541838)]), RelationRecord(items=frozenset({'burgers', 'milk', 'cake'}), support=0.0037328356219170776, ordered_statistics=[OrderedStatistic(items_base=frozenset({'milk', 'cake'}), items_add=frozenset({'burgers'}), confidence=0.27999999999999997, lift=3.211437308868501)]), RelationRecord(items=frozenset({'burgers', 'turkey', 'chocolate'}), support=0.0030662578322890282, ordered_statistics=[OrderedStatistic(items_base=frozenset({'turkey', 'chocolate'}), items_add=frozenset({'burgers'}), confidence=0.27058823529411763, lift=3.1034898363014927)]), RelationRecord(items=frozenset({'burgers', 'turkey', 'milk'}), support=0.003199573390214638, ordered_statistics=[OrderedStatistic(items_base=frozenset({'turkey', 'milk'}), items_add=frozenset({'burgers'}), confidence=0.2823529411764706, lift=3.2384241770102533)]), RelationRecord(items=frozenset({'frozen vegetables', 'tomatoes', 'cake'}), support=0.0030662578322890282, ordered_statistics=[OrderedStatistic(items_base=frozenset({'frozen vegetables', 'cake'}), items_add=frozenset({'tomatoes'}), confidence=0.2987012987012987, lift=4.367560314928736), OrderedStatistic(items_base=frozenset({'tomatoes', 'cake'}), items_add=frozenset({'frozen vegetables'}), confidence=0.36507936507936506, lift=3.8300144300144296)]), RelationRecord(items=frozenset({'spaghetti', 'ground beef', 'cereals'}), support=0.0030662578322890282, ordered_statistics=[OrderedStatistic(items_base=frozenset({'ground beef', 'cereals'}), items_add=frozenset({'spaghetti'}), confidence=0.6764705882352942, lift=3.8853031258445188), OrderedStatistic(items_base=frozenset({'spaghetti', 'cereals'}), items_add=frozenset({'ground beef'}), confidence=0.45999999999999996, lift=4.681763907734057)]), RelationRecord(items=frozenset({'milk', 'ground beef', 'chicken'}), support=0.0038661511798426876, ordered_statistics=[OrderedStatistic(items_base=frozenset({'ground beef', 'chicken'}), items_add=frozenset({'milk'}), confidence=0.40845070422535207, lift=3.152046020981858)]), RelationRecord(items=frozenset({'olive oil', 'milk', 'chicken'}), support=0.0035995200639914677, ordered_statistics=[OrderedStatistic(items_base=frozenset({'milk', 'chicken'}), items_add=frozenset({'olive oil'}), confidence=0.24324324324324323, lift=3.693456614509246), OrderedStatistic(items_base=frozenset({'olive oil', 'chicken'}), items_add=frozenset({'milk'}), confidence=0.5, lift=3.858539094650206), OrderedStatistic(items_base=frozenset({'olive oil', 'milk'}), items_add=frozenset({'chicken'}), confidence=0.2109375, lift=3.51609375)]), RelationRecord(items=frozenset({'olive oil', 'spaghetti', 'chicken'}), support=0.0034662045060658577, ordered_statistics=[OrderedStatistic(items_base=frozenset({'spaghetti', 'chicken'}), items_add=frozenset({'olive oil'}), confidence=0.20155038759689922, lift=3.0603835169318647)]), RelationRecord(items=frozenset({'frozen vegetables', 'shrimp', 'chocolate'}), support=0.005332622317024397, ordered_statistics=[OrderedStatistic(items_base=frozenset({'frozen vegetables', 'chocolate'}), items_add=frozenset({'shrimp'}), confidence=0.23255813953488375, lift=3.2545123221103784), OrderedStatistic(items_base=frozenset({'shrimp', 'chocolate'}), items_add=frozenset({'frozen vegetables'}), confidence=0.29629629629629634, lift=3.1084175084175087)]), RelationRecord(items=frozenset({'herb & pepper', 'chocolate', 'ground beef'}), support=0.003999466737768298, ordered_statistics=[OrderedStatistic(items_base=frozenset({'herb & pepper', 'chocolate'}), items_add=frozenset({'ground beef'}), confidence=0.4411764705882354, lift=4.4901827759597746)]), RelationRecord(items=frozenset({'milk', 'chocolate', 'soup'}), support=0.003999466737768298, ordered_statistics=[OrderedStatistic(items_base=frozenset({'chocolate', 'soup'}), items_add=frozenset({'milk'}), confidence=0.3947368421052632, lift=3.0462150747238472)]), RelationRecord(items=frozenset({'cooking oil', 'spaghetti', 'ground beef'}), support=0.004799360085321957, ordered_statistics=[OrderedStatistic(items_base=frozenset({'cooking oil', 'ground beef'}), items_add=frozenset({'spaghetti'}), confidence=0.5714285714285714, lift=3.2819951870487856), OrderedStatistic(items_base=frozenset({'cooking oil', 'spaghetti'}), items_add=frozenset({'ground beef'}), confidence=0.3025210084033613, lift=3.0789824749438446)]), RelationRecord(items=frozenset({'herb & pepper', 'eggs', 'ground beef'}), support=0.0041327822956939075, ordered_statistics=[OrderedStatistic(items_base=frozenset({'eggs', 'ground beef'}), items_add=frozenset({'herb & pepper'}), confidence=0.2066666666666667, lift=4.178454627133872), OrderedStatistic(items_base=frozenset({'herb & pepper', 'eggs'}), items_add=frozenset({'ground beef'}), confidence=0.3297872340425532, lift=3.3564912381997174)]), RelationRecord(items=frozenset({'red wine', 'spaghetti', 'eggs'}), support=0.0037328356219170776, ordered_statistics=[OrderedStatistic(items_base=frozenset({'red wine', 'eggs'}), items_add=frozenset({'spaghetti'}), confidence=0.5283018867924528, lift=3.0342974370828397)]), RelationRecord(items=frozenset({'french fries', 'herb & pepper', 'ground beef'}), support=0.003199573390214638, ordered_statistics=[OrderedStatistic(items_base=frozenset({'french fries', 'ground beef'}), items_add=frozenset({'herb & pepper'}), confidence=0.23076923076923078, lift=4.665768194070081), OrderedStatistic(items_base=frozenset({'french fries', 'herb & pepper'}), items_add=frozenset({'ground beef'}), confidence=0.46153846153846156, lift=4.697421981004071)]), RelationRecord(items=frozenset({'frozen vegetables', 'tomatoes', 'green tea'}), support=0.003332888948140248, ordered_statistics=[OrderedStatistic(items_base=frozenset({'frozen vegetables', 'green tea'}), items_add=frozenset({'tomatoes'}), confidence=0.2314814814814815, lift=3.38468341635983)]), RelationRecord(items=frozenset({'frozen vegetables', 'spaghetti', 'ground beef'}), support=0.008665511265164644, ordered_statistics=[OrderedStatistic(items_base=frozenset({'frozen vegetables', 'spaghetti'}), items_add=frozenset({'ground beef'}), confidence=0.31100478468899523, lift=3.165328208890303)]), RelationRecord(items=frozenset({'frozen vegetables', 'olive oil', 'milk'}), support=0.004799360085321957, ordered_statistics=[OrderedStatistic(items_base=frozenset({'frozen vegetables', 'milk'}), items_add=frozenset({'olive oil'}), confidence=0.20338983050847456, lift=3.088314005352364), OrderedStatistic(items_base=frozenset({'frozen vegetables', 'olive oil'}), items_add=frozenset({'milk'}), confidence=0.4235294117647058, lift=3.2684095860566447)]), RelationRecord(items=frozenset({'frozen vegetables', 'milk', 'soup'}), support=0.003999466737768298, ordered_statistics=[OrderedStatistic(items_base=frozenset({'frozen vegetables', 'soup'}), items_add=frozenset({'milk'}), confidence=0.5, lift=3.858539094650206)]), RelationRecord(items=frozenset({'frozen vegetables', 'tomatoes', 'milk'}), support=0.0041327822956939075, ordered_statistics=[OrderedStatistic(items_base=frozenset({'tomatoes', 'milk'}), items_add=frozenset({'frozen vegetables'}), confidence=0.29523809523809524, lift=3.0973160173160172)]), RelationRecord(items=frozenset({'frozen vegetables', 'shrimp', 'mineral water'}), support=0.007199040127982935, ordered_statistics=[OrderedStatistic(items_base=frozenset({'shrimp', 'mineral water'}), items_add=frozenset({'frozen vegetables'}), confidence=0.30508474576271183, lift=3.200616332819722)]), RelationRecord(items=frozenset({'frozen vegetables', 'olive oil', 'spaghetti'}), support=0.005732568990801226, ordered_statistics=[OrderedStatistic(items_base=frozenset({'frozen vegetables', 'spaghetti'}), items_add=frozenset({'olive oil'}), confidence=0.20574162679425836, lift=3.1240241752707125)]), RelationRecord(items=frozenset({'frozen vegetables', 'spaghetti', 'shrimp'}), support=0.005999200106652446, ordered_statistics=[OrderedStatistic(items_base=frozenset({'frozen vegetables', 'spaghetti'}), items_add=frozenset({'shrimp'}), confidence=0.21531100478468898, lift=3.0131489680782684)]), RelationRecord(items=frozenset({'frozen vegetables', 'tomatoes', 'shrimp'}), support=0.003999466737768298, ordered_statistics=[OrderedStatistic(items_base=frozenset({'frozen vegetables', 'shrimp'}), items_add=frozenset({'tomatoes'}), confidence=0.24000000000000002, lift=3.5092397660818717), OrderedStatistic(items_base=frozenset({'frozen vegetables', 'tomatoes'}), items_add=frozenset({'shrimp'}), confidence=0.2479338842975207, lift=3.4696866905143704), OrderedStatistic(items_base=frozenset({'tomatoes', 'shrimp'}), items_add=frozenset({'frozen vegetables'}), confidence=0.35714285714285715, lift=3.7467532467532467)]), RelationRecord(items=frozenset({'frozen vegetables', 'tomatoes', 'spaghetti'}), support=0.006665777896280496, ordered_statistics=[OrderedStatistic(items_base=frozenset({'frozen vegetables', 'spaghetti'}), items_add=frozenset({'tomatoes'}), confidence=0.23923444976076558, lift=3.4980460188216425), OrderedStatistic(items_base=frozenset({'tomatoes', 'spaghetti'}), items_add=frozenset({'frozen vegetables'}), confidence=0.3184713375796179, lift=3.341053850607991)]), RelationRecord(items=frozenset({'spaghetti', 'grated cheese', 'ground beef'}), support=0.005332622317024397, ordered_statistics=[OrderedStatistic(items_base=frozenset({'spaghetti', 'grated cheese'}), items_add=frozenset({'ground beef'}), confidence=0.3225806451612903, lift=3.283144395325426)]), RelationRecord(items=frozenset({'tomatoes', 'green tea', 'ground beef'}), support=0.0030662578322890282, ordered_statistics=[OrderedStatistic(items_base=frozenset({'green tea', 'ground beef'}), items_add=frozenset({'tomatoes'}), confidence=0.2072072072072072, lift=3.0297490472929067)]), RelationRecord(items=frozenset({'milk', 'herb & pepper', 'ground beef'}), support=0.0035995200639914677, ordered_statistics=[OrderedStatistic(items_base=frozenset({'milk', 'herb & pepper'}), items_add=frozenset({'ground beef'}), confidence=0.3913043478260869, lift=3.9825968969382335)]), RelationRecord(items=frozenset({'mineral water', 'herb & pepper', 'ground beef'}), support=0.006665777896280496, ordered_statistics=[OrderedStatistic(items_base=frozenset({'mineral water', 'herb & pepper'}), items_add=frozenset({'ground beef'}), confidence=0.39062500000000006, lift=3.975682666214383)]), RelationRecord(items=frozenset({'spaghetti', 'herb & pepper', 'ground beef'}), support=0.006399146780429276, ordered_statistics=[OrderedStatistic(items_base=frozenset({'spaghetti', 'herb & pepper'}), items_add=frozenset({'ground beef'}), confidence=0.3934426229508197, lift=4.004359721511667)]), RelationRecord(items=frozenset({'olive oil', 'milk', 'ground beef'}), support=0.004932675643247567, ordered_statistics=[OrderedStatistic(items_base=frozenset({'milk', 'ground beef'}), items_add=frozenset({'olive oil'}), confidence=0.22424242424242427, lift=3.40494417862839)]), RelationRecord(items=frozenset({'milk', 'soup', 'ground beef'}), support=0.003999466737768298, ordered_statistics=[OrderedStatistic(items_base=frozenset({'soup', 'ground beef'}), items_add=frozenset({'milk'}), confidence=0.4109589041095891, lift=3.1714019956029094)]), RelationRecord(items=frozenset({'pepper', 'spaghetti', 'ground beef'}), support=0.003332888948140248, ordered_statistics=[OrderedStatistic(items_base=frozenset({'spaghetti', 'pepper'}), items_add=frozenset({'ground beef'}), confidence=0.33783783783783783, lift=3.4384282518610876)]), RelationRecord(items=frozenset({'spaghetti', 'shrimp', 'ground beef'}), support=0.005999200106652446, ordered_statistics=[OrderedStatistic(items_base=frozenset({'shrimp', 'ground beef'}), items_add=frozenset({'spaghetti'}), confidence=0.5232558139534884, lift=3.005315360233627)]), RelationRecord(items=frozenset({'tomato sauce', 'spaghetti', 'ground beef'}), support=0.0030662578322890282, ordered_statistics=[OrderedStatistic(items_base=frozenset({'tomato sauce'}), items_add=frozenset({'spaghetti', 'ground beef'}), confidence=0.2169811320754717, lift=5.535970992170453), OrderedStatistic(items_base=frozenset({'tomato sauce', 'ground beef'}), items_add=frozenset({'spaghetti'}), confidence=0.5750000000000001, lift=3.3025076569678413), OrderedStatistic(items_base=frozenset({'tomato sauce', 'spaghetti'}), items_add=frozenset({'ground beef'}), confidence=0.4893617021276596, lift=4.980599901844742)]), RelationRecord(items=frozenset({'spaghetti', 'mineral water', 'light cream'}), support=0.003199573390214638, ordered_statistics=[OrderedStatistic(items_base=frozenset({'light cream'}), items_add=frozenset({'spaghetti', 'mineral water'}), confidence=0.20512820512820515, lift=3.4345238095238098)]), RelationRecord(items=frozenset({'olive oil', 'milk', 'shrimp'}), support=0.003199573390214638, ordered_statistics=[OrderedStatistic(items_base=frozenset({'olive oil', 'shrimp'}), items_add=frozenset({'milk'}), confidence=0.3934426229508197, lift=3.0362274843149164)]), RelationRecord(items=frozenset({'olive oil', 'milk', 'soup'}), support=0.0035995200639914677, ordered_statistics=[OrderedStatistic(items_base=frozenset({'olive oil', 'milk'}), items_add=frozenset({'soup'}), confidence=0.2109375, lift=4.174781497361478), OrderedStatistic(items_base=frozenset({'milk', 'soup'}), items_add=frozenset({'olive oil'}), confidence=0.23684210526315788, lift=3.5962603878116344), OrderedStatistic(items_base=frozenset({'olive oil', 'soup'}), items_add=frozenset({'milk'}), confidence=0.4029850746268656, lift=3.1098673300165833)]), RelationRecord(items=frozenset({'spaghetti', 'olive oil', 'milk'}), support=0.007199040127982935, ordered_statistics=[OrderedStatistic(items_base=frozenset({'spaghetti', 'milk'}), items_add=frozenset({'olive oil'}), confidence=0.20300751879699247, lift=3.0825089038385434)]), RelationRecord(items=frozenset({'tomatoes', 'milk', 'soup'}), support=0.0030662578322890282, ordered_statistics=[OrderedStatistic(items_base=frozenset({'tomatoes', 'milk'}), items_add=frozenset({'soup'}), confidence=0.21904761904761905, lift=4.335293378565146), OrderedStatistic(items_base=frozenset({'tomatoes', 'soup'}), items_add=frozenset({'milk'}), confidence=0.44230769230769235, lift=3.4133230452674903)]), RelationRecord(items=frozenset({'spaghetti', 'milk', 'whole wheat pasta'}), support=0.003999466737768298, ordered_statistics=[OrderedStatistic(items_base=frozenset({'spaghetti', 'whole wheat pasta'}), items_add=frozenset({'milk'}), confidence=0.4545454545454546, lift=3.5077628133183696)]), RelationRecord(items=frozenset({'olive oil', 'mineral water', 'soup'}), support=0.005199306759098787, ordered_statistics=[OrderedStatistic(items_base=frozenset({'mineral water', 'soup'}), items_add=frozenset({'olive oil'}), confidence=0.22543352601156072, lift=3.4230301186492245)]), RelationRecord(items=frozenset({'olive oil', 'mineral water', 'whole wheat pasta'}), support=0.0038661511798426876, ordered_statistics=[OrderedStatistic(items_base=frozenset({'mineral water', 'whole wheat pasta'}), items_add=frozenset({'olive oil'}), confidence=0.4027777777777778, lift=6.115862573099416)]), RelationRecord(items=frozenset({'pancakes', 'olive oil', 'spaghetti'}), support=0.005065991201173177, ordered_statistics=[OrderedStatistic(items_base=frozenset({'pancakes', 'spaghetti'}), items_add=frozenset({'olive oil'}), confidence=0.20105820105820105, lift=3.0529100529100526)]), RelationRecord(items=frozenset({'olive oil', 'spaghetti', 'tomatoes'}), support=0.004399413411545127, ordered_statistics=[OrderedStatistic(items_base=frozenset({'olive oil', 'tomatoes'}), items_add=frozenset({'spaghetti'}), confidence=0.6111111111111112, lift=3.5099115194827295), OrderedStatistic(items_base=frozenset({'tomatoes', 'spaghetti'}), items_add=frozenset({'olive oil'}), confidence=0.21019108280254778, lift=3.19158565202816)]), RelationRecord(items=frozenset({'tomatoes', 'spaghetti', 'whole wheat rice'}), support=0.0030662578322890282, ordered_statistics=[OrderedStatistic(items_base=frozenset({'spaghetti', 'whole wheat rice'}), items_add=frozenset({'tomatoes'}), confidence=0.2169811320754717, lift=3.1726617382029496)]), RelationRecord(items=frozenset({'mineral water', 'chocolate', 'eggs', 'ground beef'}), support=0.003999466737768298, ordered_statistics=[OrderedStatistic(items_base=frozenset({'eggs', 'ground beef'}), items_add=frozenset({'mineral water', 'chocolate'}), confidence=0.20000000000000004, lift=3.7979746835443047), OrderedStatistic(items_base=frozenset({'mineral water', 'chocolate', 'eggs'}), items_add=frozenset({'ground beef'}), confidence=0.29702970297029707, lift=3.023093354111531)]), RelationRecord(items=frozenset({'mineral water', 'frozen vegetables', 'chocolate', 'ground beef'}), support=0.003332888948140248, ordered_statistics=[OrderedStatistic(items_base=frozenset({'mineral water', 'frozen vegetables', 'chocolate'}), items_add=frozenset({'ground beef'}), confidence=0.34246575342465757, lift=3.4855300087358976), OrderedStatistic(items_base=frozenset({'mineral water', 'chocolate', 'ground beef'}), items_add=frozenset({'frozen vegetables'}), confidence=0.30487804878048785, lift=3.1984478935698455)]), RelationRecord(items=frozenset({'frozen vegetables', 'spaghetti', 'chocolate', 'ground beef'}), support=0.0030662578322890282, ordered_statistics=[OrderedStatistic(items_base=frozenset({'frozen vegetables', 'chocolate', 'ground beef'}), items_add=frozenset({'spaghetti'}), confidence=0.5348837209302326, lift=3.0721001460165964), OrderedStatistic(items_base=frozenset({'frozen vegetables', 'spaghetti', 'chocolate'}), items_add=frozenset({'ground beef'}), confidence=0.3898305084745763, lift=3.967596531978015), OrderedStatistic(items_base=frozenset({'spaghetti', 'chocolate', 'ground beef'}), items_add=frozenset({'frozen vegetables'}), confidence=0.33333333333333337, lift=3.4969696969696975)]), RelationRecord(items=frozenset({'mineral water', 'frozen vegetables', 'milk', 'chocolate'}), support=0.003999466737768298, ordered_statistics=[OrderedStatistic(items_base=frozenset({'mineral water', 'frozen vegetables', 'chocolate'}), items_add=frozenset({'milk'}), confidence=0.4109589041095891, lift=3.1714019956029094)]), RelationRecord(items=frozenset({'spaghetti', 'frozen vegetables', 'milk', 'chocolate'}), support=0.0034662045060658577, ordered_statistics=[OrderedStatistic(items_base=frozenset({'frozen vegetables', 'spaghetti', 'chocolate'}), items_add=frozenset({'milk'}), confidence=0.44067796610169485, lift=3.4007463207086555), OrderedStatistic(items_base=frozenset({'spaghetti', 'milk', 'chocolate'}), items_add=frozenset({'frozen vegetables'}), confidence=0.3170731707317073, lift=3.3263858093126384)]), RelationRecord(items=frozenset({'mineral water', 'frozen vegetables', 'shrimp', 'chocolate'}), support=0.003199573390214638, ordered_statistics=[OrderedStatistic(items_base=frozenset({'mineral water', 'frozen vegetables', 'chocolate'}), items_add=frozenset({'shrimp'}), confidence=0.32876712328767127, lift=4.600899611531385), OrderedStatistic(items_base=frozenset({'mineral water', 'shrimp', 'chocolate'}), items_add=frozenset({'frozen vegetables'}), confidence=0.4210526315789474, lift=4.417224880382776)]), RelationRecord(items=frozenset({'mineral water', 'olive oil', 'spaghetti', 'chocolate'}), support=0.0038661511798426876, ordered_statistics=[OrderedStatistic(items_base=frozenset({'olive oil', 'chocolate'}), items_add=frozenset({'spaghetti', 'mineral water'}), confidence=0.23577235772357724, lift=3.947608159117306), OrderedStatistic(items_base=frozenset({'mineral water', 'spaghetti', 'chocolate'}), items_add=frozenset({'olive oil'}), confidence=0.2436974789915966, lift=3.700353825740822)]), RelationRecord(items=frozenset({'mineral water', 'shrimp', 'spaghetti', 'chocolate'}), support=0.0034662045060658577, ordered_statistics=[OrderedStatistic(items_base=frozenset({'mineral water', 'spaghetti', 'chocolate'}), items_add=frozenset({'shrimp'}), confidence=0.21848739495798317, lift=3.0576006522011783)]), RelationRecord(items=frozenset({'frozen vegetables', 'milk', 'mineral water', 'eggs'}), support=0.0037328356219170776, ordered_statistics=[OrderedStatistic(items_base=frozenset({'frozen vegetables', 'mineral water', 'eggs'}), items_add=frozenset({'milk'}), confidence=0.411764705882353, lift=3.177620430888405)]), RelationRecord(items=frozenset({'mineral water', 'milk', 'frozen smoothie', 'spaghetti'}), support=0.003199573390214638, ordered_statistics=[OrderedStatistic(items_base=frozenset({'milk', 'frozen smoothie'}), items_add=frozenset({'spaghetti', 'mineral water'}), confidence=0.22429906542056074, lift=3.7555073431241657), OrderedStatistic(items_base=frozenset({'spaghetti', 'frozen smoothie'}), items_add=frozenset({'milk', 'mineral water'}), confidence=0.20512820512820515, lift=4.274074074074075), OrderedStatistic(items_base=frozenset({'mineral water', 'spaghetti', 'frozen smoothie'}), items_add=frozenset({'milk'}), confidence=0.4705882352941177, lift=3.631566206729606), OrderedStatistic(items_base=frozenset({'spaghetti', 'milk', 'mineral water'}), items_add=frozenset({'frozen smoothie'}), confidence=0.2033898305084746, lift=3.211846565566459)]), RelationRecord(items=frozenset({'frozen vegetables', 'milk', 'mineral water', 'ground beef'}), support=0.0037328356219170776, ordered_statistics=[OrderedStatistic(items_base=frozenset({'frozen vegetables', 'ground beef'}), items_add=frozenset({'milk', 'mineral water'}), confidence=0.22047244094488186, lift=4.593788276465442), OrderedStatistic(items_base=frozenset({'frozen vegetables', 'mineral water', 'ground beef'}), items_add=frozenset({'milk'}), confidence=0.40579710144927533, lift=3.1315679608755294), OrderedStatistic(items_base=frozenset({'frozen vegetables', 'milk', 'mineral water'}), items_add=frozenset({'ground beef'}), confidence=0.3373493975903614, lift=3.4334570302921317), OrderedStatistic(items_base=frozenset({'milk', 'mineral water', 'ground beef'}), items_add=frozenset({'frozen vegetables'}), confidence=0.3373493975903614, lift=3.539101861993428)]), RelationRecord(items=frozenset({'spaghetti', 'frozen vegetables', 'milk', 'ground beef'}), support=0.0030662578322890282, ordered_statistics=[OrderedStatistic(items_base=frozenset({'frozen vegetables', 'milk', 'ground beef'}), items_add=frozenset({'spaghetti'}), confidence=0.5348837209302326, lift=3.0721001460165964), OrderedStatistic(items_base=frozenset({'spaghetti', 'frozen vegetables', 'milk'}), items_add=frozenset({'ground beef'}), confidence=0.3709677419354839, lift=3.7756160546242397), OrderedStatistic(items_base=frozenset({'spaghetti', 'milk', 'ground beef'}), items_add=frozenset({'frozen vegetables'}), confidence=0.3150684931506849, lift=3.305354919053549)]), RelationRecord(items=frozenset({'frozen vegetables', 'spaghetti', 'mineral water', 'ground beef'}), support=0.004399413411545127, ordered_statistics=[OrderedStatistic(items_base=frozenset({'frozen vegetables', 'ground beef'}), items_add=frozenset({'spaghetti', 'mineral water'}), confidence=0.25984251968503935, lift=4.350622187851519), OrderedStatistic(items_base=frozenset({'frozen vegetables', 'spaghetti', 'mineral water'}), items_add=frozenset({'ground beef'}), confidence=0.3666666666666667, lift=3.7318407960199007)]), RelationRecord(items=frozenset({'frozen vegetables', 'olive oil', 'milk', 'mineral water'}), support=0.003332888948140248, ordered_statistics=[OrderedStatistic(items_base=frozenset({'frozen vegetables', 'olive oil'}), items_add=frozenset({'milk', 'mineral water'}), confidence=0.29411764705882354, lift=6.12826797385621), OrderedStatistic(items_base=frozenset({'frozen vegetables', 'milk', 'mineral water'}), items_add=frozenset({'olive oil'}), confidence=0.30120481927710846, lift=4.573557387444516), OrderedStatistic(items_base=frozenset({'frozen vegetables', 'olive oil', 'mineral water'}), items_add=frozenset({'milk'}), confidence=0.5102040816326531, lift=3.937284790459394), OrderedStatistic(items_base=frozenset({'olive oil', 'milk', 'mineral water'}), items_add=frozenset({'frozen vegetables'}), confidence=0.39062500000000006, lift=4.098011363636364)]), RelationRecord(items=frozenset({'frozen vegetables', 'milk', 'mineral water', 'soup'}), support=0.0030662578322890282, ordered_statistics=[OrderedStatistic(items_base=frozenset({'frozen vegetables', 'soup'}), items_add=frozenset({'milk', 'mineral water'}), confidence=0.3833333333333333, lift=7.987175925925926), OrderedStatistic(items_base=frozenset({'milk', 'soup'}), items_add=frozenset({'frozen vegetables', 'mineral water'}), confidence=0.20175438596491227, lift=5.646864362398533), OrderedStatistic(items_base=frozenset({'frozen vegetables', 'milk', 'mineral water'}), items_add=frozenset({'soup'}), confidence=0.27710843373493976, lift=5.484407286136631), OrderedStatistic(items_base=frozenset({'frozen vegetables', 'milk', 'soup'}), items_add=frozenset({'mineral water'}), confidence=0.7666666666666666, lift=3.21631245339299), OrderedStatistic(items_base=frozenset({'frozen vegetables', 'mineral water', 'soup'}), items_add=frozenset({'milk'}), confidence=0.6052631578947368, lift=4.670863114576565), OrderedStatistic(items_base=frozenset({'milk', 'mineral water', 'soup'}), items_add=frozenset({'frozen vegetables'}), confidence=0.35937500000000006, lift=3.7701704545454553)]), RelationRecord(items=frozenset({'spaghetti', 'frozen vegetables', 'milk', 'mineral water'}), support=0.004532728969470737, ordered_statistics=[OrderedStatistic(items_base=frozenset({'spaghetti', 'milk', 'mineral water'}), items_add=frozenset({'frozen vegetables'}), confidence=0.28813559322033894, lift=3.0228043143297376)]), RelationRecord(items=frozenset({'frozen vegetables', 'shrimp', 'spaghetti', 'mineral water'}), support=0.003332888948140248, ordered_statistics=[OrderedStatistic(items_base=frozenset({'frozen vegetables', 'shrimp'}), items_add=frozenset({'spaghetti', 'mineral water'}), confidence=0.2, lift=3.3486607142857148), OrderedStatistic(items_base=frozenset({'frozen vegetables', 'spaghetti', 'mineral water'}), items_add=frozenset({'shrimp'}), confidence=0.2777777777777778, lift=3.8873341625207294), OrderedStatistic(items_base=frozenset({'shrimp', 'spaghetti', 'mineral water'}), items_add=frozenset({'frozen vegetables'}), confidence=0.39062500000000006, lift=4.098011363636364)]), RelationRecord(items=frozenset({'frozen vegetables', 'tomatoes', 'spaghetti', 'mineral water'}), support=0.0030662578322890282, ordered_statistics=[OrderedStatistic(items_base=frozenset({'frozen vegetables', 'spaghetti', 'mineral water'}), items_add=frozenset({'tomatoes'}), confidence=0.2555555555555556, lift=3.7366904916612524), OrderedStatistic(items_base=frozenset({'frozen vegetables', 'tomatoes', 'mineral water'}), items_add=frozenset({'spaghetti'}), confidence=0.5227272727272727, lift=3.0022796881525826), OrderedStatistic(items_base=frozenset({'tomatoes', 'spaghetti', 'mineral water'}), items_add=frozenset({'frozen vegetables'}), confidence=0.32857142857142857, lift=3.447012987012987)]), RelationRecord(items=frozenset({'spaghetti', 'milk', 'mineral water', 'ground beef'}), support=0.004399413411545127, ordered_statistics=[OrderedStatistic(items_base=frozenset({'milk', 'ground beef'}), items_add=frozenset({'spaghetti', 'mineral water'}), confidence=0.2, lift=3.3486607142857148)]), RelationRecord(items=frozenset({'olive oil', 'spaghetti', 'mineral water', 'ground beef'}), support=0.0030662578322890282, ordered_statistics=[OrderedStatistic(items_base=frozenset({'olive oil', 'ground beef'}), items_add=frozenset({'spaghetti', 'mineral water'}), confidence=0.2169811320754717, lift=3.63298096361186), OrderedStatistic(items_base=frozenset({'olive oil', 'spaghetti', 'mineral water'}), items_add=frozenset({'ground beef'}), confidence=0.2987012987012987, lift=3.0401064335935435)]), RelationRecord(items=frozenset({'pancakes', 'spaghetti', 'mineral water', 'ground beef'}), support=0.0030662578322890282, ordered_statistics=[OrderedStatistic(items_base=frozenset({'pancakes', 'ground beef'}), items_add=frozenset({'spaghetti', 'mineral water'}), confidence=0.21100917431192662, lift=3.532990661861075)]), RelationRecord(items=frozenset({'tomatoes', 'spaghetti', 'mineral water', 'ground beef'}), support=0.0030662578322890282, ordered_statistics=[OrderedStatistic(items_base=frozenset({'tomatoes', 'ground beef'}), items_add=frozenset({'spaghetti', 'mineral water'}), confidence=0.26136363636363635, lift=4.3760907061688314), OrderedStatistic(items_base=frozenset({'tomatoes', 'mineral water', 'ground beef'}), items_add=frozenset({'spaghetti'}), confidence=0.5609756097560976, lift=3.221958689724723), OrderedStatistic(items_base=frozenset({'tomatoes', 'spaghetti', 'mineral water'}), items_add=frozenset({'ground beef'}), confidence=0.32857142857142857, lift=3.344117076952898)]), RelationRecord(items=frozenset({'spaghetti', 'olive oil', 'milk', 'mineral water'}), support=0.003332888948140248, ordered_statistics=[OrderedStatistic(items_base=frozenset({'spaghetti', 'milk', 'mineral water'}), items_add=frozenset({'olive oil'}), confidence=0.211864406779661, lift=3.216993755575379)]), RelationRecord(items=frozenset({'spaghetti', 'tomatoes', 'milk', 'mineral water'}), support=0.003332888948140248, ordered_statistics=[OrderedStatistic(items_base=frozenset({'tomatoes', 'milk'}), items_add=frozenset({'spaghetti', 'mineral water'}), confidence=0.2380952380952381, lift=3.9865008503401365), OrderedStatistic(items_base=frozenset({'spaghetti', 'milk', 'mineral water'}), items_add=frozenset({'tomatoes'}), confidence=0.211864406779661, lift=3.0978458387022165)])]\n"
     ]
    }
   ],
   "source": [
    "results = list(rules)\n",
    "print(results)"
   ]
  },
  {
   "cell_type": "markdown",
   "metadata": {},
   "source": [
    "## Putting results well orgainised into a dataframe"
   ]
  },
  {
   "cell_type": "code",
   "execution_count": 55,
   "metadata": {},
   "outputs": [],
   "source": [
    "def inspect(results):\n",
    "    lhs = [tuple(result[2][0][0]) for result in results]\n",
    "    rhs = [tuple(result[2][0][1]) for result in results]\n",
    "    supports = [result[1] for result in results]\n",
    "    confidences = [result[2][0][2] for result in results]\n",
    "    lifts = [result[2][0][3] for result in results]\n",
    "    return(list(zip(lhs, rhs, supports, confidences, lifts)))\n",
    "\n",
    "resultsDf = pd.DataFrame(inspect(results), columns=['Left Hand Side', 'Right Hand Side', 'Support', 'Confidence', 'Lift'])"
   ]
  },
  {
   "cell_type": "markdown",
   "metadata": {},
   "source": [
    "## Displaying the results (Non Sorted)"
   ]
  },
  {
   "cell_type": "code",
   "execution_count": 56,
   "metadata": {},
   "outputs": [
    {
     "name": "stdout",
     "output_type": "stream",
     "text": [
      "                      Left Hand Side             Right Hand Side   Support  \\\n",
      "0                     (light cream,)                  (chicken,)  0.004533   \n",
      "1            (mushroom cream sauce,)                 (escalope,)  0.005733   \n",
      "2                           (pasta,)                 (escalope,)  0.005866   \n",
      "3                   (fromage blanc,)                    (honey,)  0.003333   \n",
      "4                   (herb & pepper,)              (ground beef,)  0.015998   \n",
      "..                               ...                         ...       ...   \n",
      "75          (olive oil, ground beef)  (spaghetti, mineral water)  0.003066   \n",
      "76           (pancakes, ground beef)  (spaghetti, mineral water)  0.003066   \n",
      "77           (tomatoes, ground beef)  (spaghetti, mineral water)  0.003066   \n",
      "78  (spaghetti, milk, mineral water)                (olive oil,)  0.003333   \n",
      "79                  (tomatoes, milk)  (spaghetti, mineral water)  0.003333   \n",
      "\n",
      "    Confidence      Lift  \n",
      "0     0.290598  4.843951  \n",
      "1     0.300699  3.790833  \n",
      "2     0.372881  4.700812  \n",
      "3     0.245098  5.164271  \n",
      "4     0.323450  3.291994  \n",
      "..         ...       ...  \n",
      "75    0.216981  3.632981  \n",
      "76    0.211009  3.532991  \n",
      "77    0.261364  4.376091  \n",
      "78    0.211864  3.216994  \n",
      "79    0.238095  3.986501  \n",
      "\n",
      "[80 rows x 5 columns]\n"
     ]
    }
   ],
   "source": [
    "print(resultsDf)"
   ]
  },
  {
   "cell_type": "markdown",
   "metadata": {},
   "source": [
    "## Displaying the results (Sorted by descending lift)"
   ]
  },
  {
   "cell_type": "code",
   "execution_count": 57,
   "metadata": {},
   "outputs": [
    {
     "name": "stdout",
     "output_type": "stream",
     "text": [
      "                                 Left Hand Side           Right Hand Side  \\\n",
      "70                    (frozen vegetables, soup)     (milk, mineral water)   \n",
      "69               (frozen vegetables, olive oil)     (milk, mineral water)   \n",
      "52           (mineral water, whole wheat pasta)              (olive oil,)   \n",
      "44                              (tomato sauce,)  (spaghetti, ground beef)   \n",
      "3                              (fromage blanc,)                  (honey,)   \n",
      "..                                          ...                       ...   \n",
      "29                             (tomatoes, milk)      (frozen vegetables,)   \n",
      "27                    (frozen vegetables, milk)              (olive oil,)   \n",
      "48                            (spaghetti, milk)              (olive oil,)   \n",
      "58  (frozen vegetables, chocolate, ground beef)              (spaghetti,)   \n",
      "67       (frozen vegetables, milk, ground beef)              (spaghetti,)   \n",
      "\n",
      "     Support  Confidence      Lift  \n",
      "70  0.003066    0.383333  7.987176  \n",
      "69  0.003333    0.294118  6.128268  \n",
      "52  0.003866    0.402778  6.115863  \n",
      "44  0.003066    0.216981  5.535971  \n",
      "3   0.003333    0.245098  5.164271  \n",
      "..       ...         ...       ...  \n",
      "29  0.004133    0.295238  3.097316  \n",
      "27  0.004799    0.203390  3.088314  \n",
      "48  0.007199    0.203008  3.082509  \n",
      "58  0.003066    0.534884  3.072100  \n",
      "67  0.003066    0.534884  3.072100  \n",
      "\n",
      "[70 rows x 5 columns]\n"
     ]
    }
   ],
   "source": [
    "print(resultsDf.nlargest(n=70, columns='Lift'))"
   ]
  },
  {
   "cell_type": "code",
   "execution_count": 58,
   "metadata": {},
   "outputs": [],
   "source": [
    "resultsDf.to_csv('Market_Basket_Optimisation_Results.csv')"
   ]
  }
 ],
 "metadata": {
  "interpreter": {
   "hash": "17e05fc91c631ad9fdc4091a695f9a88ee9ac78bb900f1b99d9d9ac4f3a5ca95"
  },
  "kernelspec": {
   "display_name": "Python 3.8.5 ('base')",
   "language": "python",
   "name": "python3"
  },
  "language_info": {
   "codemirror_mode": {
    "name": "ipython",
    "version": 3
   },
   "file_extension": ".py",
   "mimetype": "text/x-python",
   "name": "python",
   "nbconvert_exporter": "python",
   "pygments_lexer": "ipython3",
   "version": "3.8.5"
  },
  "orig_nbformat": 4
 },
 "nbformat": 4,
 "nbformat_minor": 2
}
